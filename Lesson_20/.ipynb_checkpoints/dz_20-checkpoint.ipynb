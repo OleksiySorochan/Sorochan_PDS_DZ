{
 "cells": [
  {
   "cell_type": "markdown",
   "id": "41ded396",
   "metadata": {},
   "source": [
    "| year | rank | company               | revenue | profit |\n",
    "| :----| :----| :---                  | :---    | :---   |\n",
    "| 1955 | 229  | Norton                | 135.0   | N.A    |\n",
    "| 1955 | 291  | Schlitz Brewing       | 100.0   | N.A    |\n",
    "| 1955 | 295  | Pacific Vegetable Oil | 97.9    | N.A    |\n",
    "| 1955 | 297  | Liebmann Breweries    | 96.0    | N.A    |\n",
    "| 1955 | 353  | Minneapolis-Moline    | 77.4    | N.A    |"
   ]
  },
  {
   "cell_type": "code",
   "execution_count": 1,
   "id": "3926f459",
   "metadata": {},
   "outputs": [],
   "source": [
    "import random \n",
    "from random_words import RandomWords\n",
    "words = RandomWords()\n",
    "\n",
    "rand_int_list = []\n",
    "rand_float_list = []\n",
    "rand_words_list = []\n",
    "\n",
    "for i in range(1, 1000):\n",
    "    rand_int_list.append(random.randint(1, 500))\n",
    "    rand_float_list.append(random.uniform(1, 500))\n",
    "    rand_words_list.append(words.random_word())"
   ]
  },
  {
   "cell_type": "code",
   "execution_count": 2,
   "id": "46b46c07",
   "metadata": {},
   "outputs": [
    {
     "name": "stdout",
     "output_type": "stream",
     "text": [
      "1.33 ms ± 51 µs per loop (mean ± std. dev. of 7 runs, 1,000 loops each)\n"
     ]
    }
   ],
   "source": [
    "%%timeit\n",
    "\n",
    "def bubble_sort(lst):\n",
    "    length = len(lst)\n",
    "    for index in range(0, length):\n",
    "        swap = False\n",
    "        for i in range(0, length - index - 1):\n",
    "            if lst[i] > lst[i +1]:\n",
    "                lst[i], lst[i +1] = lst[i +1], lst[i]\n",
    "                swap = True\n",
    "            if not swap:\n",
    "                break\n",
    "    return lst\n",
    "bubble_sort(rand_int_list)\n",
    "bubble_sort(rand_float_list)\n",
    "bubble_sort(rand_words_list)"
   ]
  },
  {
   "cell_type": "code",
   "execution_count": null,
   "id": "854c9ede",
   "metadata": {},
   "outputs": [],
   "source": []
  }
 ],
 "metadata": {
  "kernelspec": {
   "display_name": "Python 3 (ipykernel)",
   "language": "python",
   "name": "python3"
  },
  "language_info": {
   "codemirror_mode": {
    "name": "ipython",
    "version": 3
   },
   "file_extension": ".py",
   "mimetype": "text/x-python",
   "name": "python",
   "nbconvert_exporter": "python",
   "pygments_lexer": "ipython3",
   "version": "3.10.10"
  }
 },
 "nbformat": 4,
 "nbformat_minor": 5
}
