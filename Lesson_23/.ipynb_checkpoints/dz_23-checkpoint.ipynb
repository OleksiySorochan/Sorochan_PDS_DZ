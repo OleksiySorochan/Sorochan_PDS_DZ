{
 "cells": [
  {
   "cell_type": "markdown",
   "id": "6fc7bd11",
   "metadata": {},
   "source": [
    "## Функції для очислення теорії ймовірностей"
   ]
  },
  {
   "cell_type": "markdown",
   "id": "d909b11f",
   "metadata": {},
   "source": [
    "### Функція спільної появи декількох подій"
   ]
  },
  {
   "cell_type": "code",
   "execution_count": 38,
   "id": "2ebf0124",
   "metadata": {},
   "outputs": [],
   "source": [
    "def many_exp(*args):\n",
    "    a = args[0]\n",
    "    for i in range(1, len(args)):\n",
    "        a *= args[i]\n",
    "    return a"
   ]
  },
  {
   "cell_type": "markdown",
   "id": "55a6f741",
   "metadata": {},
   "source": [
    "### Функція появи хоча б однієї події"
   ]
  },
  {
   "cell_type": "code",
   "execution_count": 34,
   "id": "de083595",
   "metadata": {},
   "outputs": [],
   "source": [
    "def at_least_one_exp(*args):\n",
    "    m_exp = args[0]\n",
    "    for i in range(1, len(args)):\n",
    "        m_exp *= args[i]\n",
    "    return  sum(args) - m_exp"
   ]
  },
  {
   "cell_type": "markdown",
   "id": "7069c9d3",
   "metadata": {},
   "source": [
    "### Задачі"
   ]
  },
  {
   "cell_type": "markdown",
   "id": "0a13959c",
   "metadata": {},
   "source": [
    "1. Прилад містить 7 елементів, з яких три зношені. При включені приладу випадковим чином включаються три елементи. Знайти ймовірність того, що при цьому виявиться включеними два незношені елементи.\n",
    "***"
   ]
  },
  {
   "cell_type": "markdown",
   "id": "7233e399",
   "metadata": {},
   "source": [
    "Спільна поява 2 нормальних елемента і 1 зношеного. В приладі 4 нормальних елемента і 3 зношених, всього сім. Так як при включені спрацьовує три елементи , то кожен спрацьований елемент - це подія."
   ]
  },
  {
   "cell_type": "markdown",
   "id": "e06425d3",
   "metadata": {},
   "source": [
    "Ймовірність першої подіі, коли включається норимальний елемент - 4/7 "
   ]
  },
  {
   "cell_type": "markdown",
   "id": "38519d67",
   "metadata": {},
   "source": [
    "Ймовірність другої подіі, коли включається норимальний елемент - 4/6, так як елементів стало меньше, тому що один вже включений "
   ]
  },
  {
   "cell_type": "markdown",
   "id": "75416ce4",
   "metadata": {},
   "source": [
    "Ймовірність третьої подіі, коли включається зношений елемент - 3/5 "
   ]
  },
  {
   "cell_type": "code",
   "execution_count": 50,
   "id": "578e755a",
   "metadata": {},
   "outputs": [
    {
     "name": "stdout",
     "output_type": "stream",
     "text": [
      "Ймовірність що включатся два незношених елементи\n"
     ]
    },
    {
     "data": {
      "text/plain": [
       "0.22857142857142854"
      ]
     },
     "execution_count": 50,
     "metadata": {},
     "output_type": "execute_result"
    }
   ],
   "source": [
    "print('Ймовірність що включатся два незношених елементи')\n",
    "P = many_exp(4/7, 4/6, 3/5)\n",
    "P"
   ]
  },
  {
   "cell_type": "markdown",
   "id": "8ea90c3a",
   "metadata": {},
   "source": [
    "***"
   ]
  },
  {
   "cell_type": "markdown",
   "id": "b03eb392",
   "metadata": {},
   "source": [
    "2. Для сигналізації про аварію встановлено два незалежно працюючих сигналезатори. Ймовірність того, що при аварії спрацює перший сигналізатор дорівнює 0.95, ця ймовірніть для другого сигналізатора дорівнює 0.9. Знайти ймовірніть того, що при аварії спрацює:"
   ]
  },
  {
   "cell_type": "markdown",
   "id": "fa62f953",
   "metadata": {},
   "source": [
    "а) хоча б один сигналізатор"
   ]
  },
  {
   "cell_type": "markdown",
   "id": "0df7afaf",
   "metadata": {},
   "source": [
    "б) тільки один сигналізатор\n",
    "***"
   ]
  },
  {
   "cell_type": "code",
   "execution_count": 35,
   "id": "c067398a",
   "metadata": {},
   "outputs": [
    {
     "name": "stdout",
     "output_type": "stream",
     "text": [
      "хоча б один сигналізатор\n"
     ]
    },
    {
     "data": {
      "text/plain": [
       "0.9950000000000001"
      ]
     },
     "execution_count": 35,
     "metadata": {},
     "output_type": "execute_result"
    }
   ],
   "source": [
    "print('хоча б один сигналізатор')\n",
    "Pa = at_least_one_exp(0.95, 0.9)\n",
    "Pa"
   ]
  },
  {
   "cell_type": "code",
   "execution_count": 39,
   "id": "4f9c71ad",
   "metadata": {},
   "outputs": [
    {
     "name": "stdout",
     "output_type": "stream",
     "text": [
      "тільки один сигналізатор\n"
     ]
    },
    {
     "data": {
      "text/plain": [
       "0.0049749999999998944"
      ]
     },
     "execution_count": 39,
     "metadata": {},
     "output_type": "execute_result"
    }
   ],
   "source": [
    "print('тільки один сигналізатор')\n",
    "P = many_exp(Pa, 1 - Pa)\n",
    "P"
   ]
  },
  {
   "cell_type": "markdown",
   "id": "5e9ab89c",
   "metadata": {},
   "source": [
    "3. Два верстати-автомати виготовляють однакові вироби, які попадають на загальний конвеєр. Продуктивність першого автомата в два рази більша, ніж другого. Перший верстат-автомат виготовляє 60% виробів вищого гатунку, а другий - 84%."
   ]
  },
  {
   "cell_type": "markdown",
   "id": "adfc3cfb",
   "metadata": {},
   "source": [
    "а) Знайти ймовірність того, що навмання взятий з конвеєра виріб вищого гатунку "
   ]
  },
  {
   "cell_type": "markdown",
   "id": "768e8a7b",
   "metadata": {},
   "source": [
    "б) навмання взятий з конвеєра виріб має вищий гатунок. Знайти ймовірність того, що він виготовленний на першому верстаті\n",
    "***"
   ]
  },
  {
   "cell_type": "markdown",
   "id": "5d9ae233",
   "metadata": {},
   "source": [
    "Візмем одиницю часу за яку на ковеєрі з'являється 3 вироби. Ймовірність того що виріб зробленний на першому верстаті - 2/3, а на другому 1/3, так як перший верстат в два рази еффективніший"
   ]
  },
  {
   "cell_type": "markdown",
   "id": "623587fa",
   "metadata": {},
   "source": [
    "спільна поява виробу з першого верстата і що виріб буде вищого гатунку:"
   ]
  },
  {
   "cell_type": "code",
   "execution_count": 42,
   "id": "d5121c2c",
   "metadata": {},
   "outputs": [
    {
     "data": {
      "text/plain": [
       "0.39999999999999997"
      ]
     },
     "execution_count": 42,
     "metadata": {},
     "output_type": "execute_result"
    }
   ],
   "source": [
    "P_one = many_exp(2/3, 0.6)\n",
    "P_one"
   ]
  },
  {
   "cell_type": "markdown",
   "id": "ba925188",
   "metadata": {},
   "source": [
    "Те саме для другого верстата:"
   ]
  },
  {
   "cell_type": "code",
   "execution_count": 43,
   "id": "74173806",
   "metadata": {},
   "outputs": [
    {
     "data": {
      "text/plain": [
       "0.27999999999999997"
      ]
     },
     "execution_count": 43,
     "metadata": {},
     "output_type": "execute_result"
    }
   ],
   "source": [
    "P_second = many_exp(1/3, 0.84)\n",
    "P_second"
   ]
  },
  {
   "cell_type": "markdown",
   "id": "7f699c30",
   "metadata": {},
   "source": [
    "Ймовірність того, що навмання взятий з конвеєра виріб вищого гатунку:"
   ]
  },
  {
   "cell_type": "code",
   "execution_count": 47,
   "id": "2e98938d",
   "metadata": {},
   "outputs": [
    {
     "name": "stdout",
     "output_type": "stream",
     "text": [
      "Ймовірність того, що навмання взятий з конвеєра виріб вищого гатунку:\n"
     ]
    },
    {
     "data": {
      "text/plain": [
       "0.568"
      ]
     },
     "execution_count": 47,
     "metadata": {},
     "output_type": "execute_result"
    }
   ],
   "source": [
    "print('Ймовірність того, що навмання взятий з конвеєра виріб вищого гатунку:')\n",
    "P_vg = at_least_one_exp(P_one, P_second)\n",
    "P_vg"
   ]
  },
  {
   "cell_type": "code",
   "execution_count": 48,
   "id": "f646b95a",
   "metadata": {},
   "outputs": [
    {
     "name": "stdout",
     "output_type": "stream",
     "text": [
      "навмання взятий з конвеєра виріб має вищий гатунок,ймовірність того, що він виготовленний на першому верстаті:\n"
     ]
    },
    {
     "data": {
      "text/plain": [
       "0.39999999999999997"
      ]
     },
     "execution_count": 48,
     "metadata": {},
     "output_type": "execute_result"
    }
   ],
   "source": [
    "print('навмання взятий з конвеєра виріб має вищий гатунок,ймовірність того, що він виготовленний на першому верстаті:')\n",
    "P_one"
   ]
  },
  {
   "cell_type": "code",
   "execution_count": null,
   "id": "94c0fb1d",
   "metadata": {},
   "outputs": [],
   "source": []
  }
 ],
 "metadata": {
  "kernelspec": {
   "display_name": "Python 3 (ipykernel)",
   "language": "python",
   "name": "python3"
  },
  "language_info": {
   "codemirror_mode": {
    "name": "ipython",
    "version": 3
   },
   "file_extension": ".py",
   "mimetype": "text/x-python",
   "name": "python",
   "nbconvert_exporter": "python",
   "pygments_lexer": "ipython3",
   "version": "3.10.10"
  }
 },
 "nbformat": 4,
 "nbformat_minor": 5
}
