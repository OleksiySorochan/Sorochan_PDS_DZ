{
 "cells": [
  {
   "cell_type": "markdown",
   "id": "2e72ed29",
   "metadata": {},
   "source": [
    "## Функціі для елементарного перетвореня матриці"
   ]
  },
  {
   "cell_type": "markdown",
   "id": "c0012ef2",
   "metadata": {},
   "source": [
    "перестановка місцями будь-яких двох рядків(стовпців) матриці"
   ]
  },
  {
   "cell_type": "code",
   "execution_count": 53,
   "id": "2d4c7706",
   "metadata": {},
   "outputs": [],
   "source": [
    "def changing_places_line(matix, index_1, index_2):\n",
    "    matix[index_1], matix[index_2] = matix[index_2], matix[index_1]\n",
    "    return matix"
   ]
  },
  {
   "cell_type": "code",
   "execution_count": 54,
   "id": "da90f5f9",
   "metadata": {},
   "outputs": [],
   "source": [
    "def changing_places_colum(matix, cm_ind_1, cm_ind_2):\n",
    "    for i in range(len(matrix)):\n",
    "        matix[i][cm_ind_1], matix[i][cm_ind_2] = matix[i][cm_ind_2], matix[i][cm_ind_1]\n",
    "    return matix"
   ]
  },
  {
   "cell_type": "markdown",
   "id": "e52e8858",
   "metadata": {},
   "source": [
    "множення на ненульову константу будь-якого рядка (стовпця) матриці"
   ]
  },
  {
   "cell_type": "code",
   "execution_count": 81,
   "id": "3a4fb9f0",
   "metadata": {},
   "outputs": [],
   "source": [
    "def dot_const_line(matrix, line_index, const):\n",
    "    if const !=0:\n",
    "        for j in range(len(matrix[line_index])):\n",
    "            matrix[line_index][j] *= const\n",
    "        return matrix\n",
    "    else:\n",
    "        print('число не повинно рівнятися 0')"
   ]
  },
  {
   "cell_type": "code",
   "execution_count": 83,
   "id": "be67d355",
   "metadata": {},
   "outputs": [],
   "source": [
    "def dot_const_colum(matrix, colum_index, const):\n",
    "    if const !=0:\n",
    "        for i in range(len(matrix)):\n",
    "            matrix[i][colum_index] *= const\n",
    "        return matrix\n",
    "    else:\n",
    "        print('число не повинно рівнятися 0')"
   ]
  },
  {
   "cell_type": "markdown",
   "id": "3835f141",
   "metadata": {},
   "source": [
    "ділення на ненульову константу будь-якого рядка(стовпця) матриці"
   ]
  },
  {
   "cell_type": "code",
   "execution_count": 79,
   "id": "076738cd",
   "metadata": {},
   "outputs": [],
   "source": [
    "def divis_const_line(matrix, line_index, const):\n",
    "    if const !=0:\n",
    "        for j in range(len(matrix[line_index])):\n",
    "            matrix[line_index][j] /= const\n",
    "        return matrix\n",
    "    else:\n",
    "        print('число не повинно рівнятися 0')"
   ]
  },
  {
   "cell_type": "code",
   "execution_count": 80,
   "id": "cd8ca750",
   "metadata": {},
   "outputs": [],
   "source": [
    "def divis_const_colum(matrix,colum_index, const):\n",
    "    if const !=0:\n",
    "        for i in range(len(matrix)):\n",
    "            matrix[i][colum_index] /= const\n",
    "        return matrix\n",
    "    else:\n",
    "        print('число не повинно рівнятися 0')"
   ]
  },
  {
   "cell_type": "markdown",
   "id": "a4be3c4d",
   "metadata": {},
   "source": [
    "додавання до будь-якого рядка(стовпця) матриці іншого рядка(стовпця)"
   ]
  },
  {
   "cell_type": "code",
   "execution_count": 71,
   "id": "3ff7e768",
   "metadata": {},
   "outputs": [],
   "source": [
    "def add_dot_line(matrix, l_index_1, l_index_2, const= 1):\n",
    "    for j in range(len(matrix[l_index_1])):\n",
    "        matrix[l_index_1][j] += (matrix[l_index_2][j] * const)\n",
    "    return matrix"
   ]
  },
  {
   "cell_type": "code",
   "execution_count": 72,
   "id": "473685bb",
   "metadata": {},
   "outputs": [],
   "source": [
    "def add_dot_colum(matrix, с_index_1, с_index_2, const= 1):\n",
    "    for i in range(len(matrix)):\n",
    "        matrix[i][с_index_1] += (matrix[i][с_index_2] * const)\n",
    "    return matrix"
   ]
  },
  {
   "cell_type": "markdown",
   "id": "3310685f",
   "metadata": {},
   "source": [
    "віднімання від будь-якого рядка(стовпця) матриці іншого рядка (стовпця)"
   ]
  },
  {
   "cell_type": "code",
   "execution_count": 73,
   "id": "73ae76c5",
   "metadata": {},
   "outputs": [],
   "source": [
    "def sub_dot_line(matrix, l_index_1, l_index_2, const= 1):\n",
    "    for j in range(len(matrix[l_index_1])):\n",
    "        matrix[l_index_1][j] -= (matrix[l_index_2][j] * const)\n",
    "    return matrix"
   ]
  },
  {
   "cell_type": "code",
   "execution_count": 74,
   "id": "aeb8da2d",
   "metadata": {},
   "outputs": [],
   "source": [
    "def sub_dot_colum(matrix, с_index_1, с_index_2, const= 1):\n",
    "    for i in range(len(matrix)):\n",
    "        matrix[i][с_index_1] -= (matrix[i][с_index_2] * const)\n",
    "    return matrix"
   ]
  },
  {
   "cell_type": "code",
   "execution_count": 75,
   "id": "a77dd193",
   "metadata": {},
   "outputs": [
    {
     "name": "stdout",
     "output_type": "stream",
     "text": [
      "[4, 2, 0]\n",
      "[1, 3, 2]\n",
      "[-1, 3, 10]\n"
     ]
    }
   ],
   "source": [
    "A = [[4, 2, 0],\n",
    "    [1, 3, 2],\n",
    "    [-1, 3, 10]]\n",
    "pprint(A)"
   ]
  },
  {
   "cell_type": "markdown",
   "id": "1654bb78",
   "metadata": {},
   "source": [
    "поміняємо перший та другий рядок місцями"
   ]
  },
  {
   "cell_type": "code",
   "execution_count": 76,
   "id": "79a34056",
   "metadata": {},
   "outputs": [
    {
     "name": "stdout",
     "output_type": "stream",
     "text": [
      "[1, 3, 2]\n",
      "[4, 2, 0]\n",
      "[-1, 3, 10]\n"
     ]
    }
   ],
   "source": [
    "changing_places_line (A, 0, 1)\n",
    "pprint(A)"
   ]
  },
  {
   "cell_type": "markdown",
   "id": "c6d6977c",
   "metadata": {},
   "source": [
    "до 2-го рядка додати 1-ший, помножений на -4"
   ]
  },
  {
   "cell_type": "code",
   "execution_count": 77,
   "id": "6749c3ab",
   "metadata": {},
   "outputs": [
    {
     "name": "stdout",
     "output_type": "stream",
     "text": [
      "[1, 3, 2]\n",
      "[0, -10, -8]\n",
      "[-1, 3, 10]\n"
     ]
    }
   ],
   "source": [
    "add_dot_line(A, 1, 0, -4)\n",
    "pprint(A)"
   ]
  },
  {
   "cell_type": "markdown",
   "id": "155c65b6",
   "metadata": {},
   "source": [
    "до третього рядка додати перший"
   ]
  },
  {
   "cell_type": "code",
   "execution_count": 78,
   "id": "399506ec",
   "metadata": {},
   "outputs": [
    {
     "name": "stdout",
     "output_type": "stream",
     "text": [
      "[1, 3, 2]\n",
      "[0, -10, -8]\n",
      "[0, 6, 12]\n"
     ]
    }
   ],
   "source": [
    "add_dot_line(A, 2, 0)\n",
    "pprint(A)"
   ]
  },
  {
   "cell_type": "markdown",
   "id": "63eeb33a",
   "metadata": {},
   "source": [
    "2-ий рядок поділити на -2"
   ]
  },
  {
   "cell_type": "code",
   "execution_count": 84,
   "id": "76a92944",
   "metadata": {},
   "outputs": [
    {
     "name": "stdout",
     "output_type": "stream",
     "text": [
      "[1, 3, 2]\n",
      "[-0.0, 5.0, 4.0]\n",
      "[0, 6, 12]\n"
     ]
    }
   ],
   "source": [
    "divis_const_line(A, 1, -2 )\n",
    "pprint(A)"
   ]
  },
  {
   "cell_type": "markdown",
   "id": "13fdc09c",
   "metadata": {},
   "source": [
    "третій рядок ділимо на 6"
   ]
  },
  {
   "cell_type": "code",
   "execution_count": 85,
   "id": "2122e81d",
   "metadata": {},
   "outputs": [
    {
     "name": "stdout",
     "output_type": "stream",
     "text": [
      "[1, 3, 2]\n",
      "[-0.0, 5.0, 4.0]\n",
      "[0.0, 1.0, 2.0]\n"
     ]
    }
   ],
   "source": [
    "divis_const_line(A, 2, 6)\n",
    "pprint(A)"
   ]
  },
  {
   "cell_type": "markdown",
   "id": "f98c4ceb",
   "metadata": {},
   "source": [
    "поміняємо другий та третій рядок місцями"
   ]
  },
  {
   "cell_type": "code",
   "execution_count": 86,
   "id": "67427955",
   "metadata": {},
   "outputs": [
    {
     "name": "stdout",
     "output_type": "stream",
     "text": [
      "[1, 3, 2]\n",
      "[0.0, 1.0, 2.0]\n",
      "[-0.0, 5.0, 4.0]\n"
     ]
    }
   ],
   "source": [
    "changing_places_line(A, 1, 2)\n",
    "pprint(A)"
   ]
  },
  {
   "cell_type": "markdown",
   "id": "87a8f887",
   "metadata": {},
   "source": [
    "до 3-тього рядка додамо 2-ий, помножений на -5"
   ]
  },
  {
   "cell_type": "code",
   "execution_count": 87,
   "id": "e9afa7e9",
   "metadata": {},
   "outputs": [
    {
     "name": "stdout",
     "output_type": "stream",
     "text": [
      "[1, 3, 2]\n",
      "[0.0, 1.0, 2.0]\n",
      "[-0.0, 0.0, -6.0]\n"
     ]
    }
   ],
   "source": [
    "add_dot_line(A, 2, 1, -5)\n",
    "pprint(A)"
   ]
  },
  {
   "cell_type": "code",
   "execution_count": null,
   "id": "d6ed6972",
   "metadata": {},
   "outputs": [],
   "source": []
  }
 ],
 "metadata": {
  "kernelspec": {
   "display_name": "Python 3 (ipykernel)",
   "language": "python",
   "name": "python3"
  },
  "language_info": {
   "codemirror_mode": {
    "name": "ipython",
    "version": 3
   },
   "file_extension": ".py",
   "mimetype": "text/x-python",
   "name": "python",
   "nbconvert_exporter": "python",
   "pygments_lexer": "ipython3",
   "version": "3.10.10"
  }
 },
 "nbformat": 4,
 "nbformat_minor": 5
}
