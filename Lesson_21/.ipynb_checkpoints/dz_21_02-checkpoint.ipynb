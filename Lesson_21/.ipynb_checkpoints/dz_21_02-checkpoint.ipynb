{
 "cells": [
  {
   "cell_type": "markdown",
   "id": "415fa639",
   "metadata": {},
   "source": [
    "## Функціі для елементарного перетвореня матриці "
   ]
  },
  {
   "cell_type": "markdown",
   "id": "75d299d5",
   "metadata": {},
   "source": [
    "перестановка місцями будь-яких двох рядків матриці"
   ]
  },
  {
   "cell_type": "code",
   "execution_count": 13,
   "id": "1d544233",
   "metadata": {},
   "outputs": [],
   "source": [
    "def changing_places(matix, index_1, index_2):\n",
    "    matix[index_1], matix[index_2] = matix[index_2], matix[index_1]\n",
    "    return matix"
   ]
  },
  {
   "cell_type": "markdown",
   "id": "1b6fdc85",
   "metadata": {},
   "source": [
    "множення на ненульову константу будь-якого рядка матриці"
   ]
  },
  {
   "cell_type": "code",
   "execution_count": 14,
   "id": "e969523a",
   "metadata": {},
   "outputs": [],
   "source": [
    "def dot_const_line(matrix, const, line_index):\n",
    "    for j in range(len(matrix[line_index])):\n",
    "        matrix[line_index][j] *= const\n",
    "    return matrix"
   ]
  },
  {
   "cell_type": "code",
   "execution_count": 15,
   "id": "ca9ec520",
   "metadata": {},
   "outputs": [],
   "source": [
    "def pprint(matrix):\n",
    "    for el in matrix:\n",
    "        print(el)"
   ]
  },
  {
   "cell_type": "code",
   "execution_count": 19,
   "id": "0776edf7",
   "metadata": {},
   "outputs": [],
   "source": [
    "matrix_1 = [[1, 2, 3],\n",
    "           [4, 5, 6],\n",
    "           [7, 8, 9]]\n",
    "pprint(matrix_1)"
   ]
  },
  {
   "cell_type": "code",
   "execution_count": 17,
   "id": "d800b8ea",
   "metadata": {},
   "outputs": [],
   "source": [
    "\n",
    "pprint(changing_places(matrix_1, 0, 1))\n"
   ]
  },
  {
   "cell_type": "code",
   "execution_count": 18,
   "id": "561ac7ef",
   "metadata": {},
   "outputs": [],
   "source": [
    "pprint(matrix_1)\n",
    "print('*'*25)\n",
    "pprint(dot_const(matrix_1, 2))"
   ]
  },
  {
   "cell_type": "code",
   "execution_count": null,
   "id": "5a8bda9a",
   "metadata": {},
   "outputs": [],
   "source": []
  },
  {
   "cell_type": "code",
   "execution_count": null,
   "id": "8e31bc62",
   "metadata": {},
   "outputs": [],
   "source": []
  },
  {
   "cell_type": "code",
   "execution_count": null,
   "id": "f0d7c0b3",
   "metadata": {},
   "outputs": [],
   "source": []
  }
 ],
 "metadata": {
  "kernelspec": {
   "display_name": "Python 3 (ipykernel)",
   "language": "python",
   "name": "python3"
  },
  "language_info": {
   "codemirror_mode": {
    "name": "ipython",
    "version": 3
   },
   "file_extension": ".py",
   "mimetype": "text/x-python",
   "name": "python",
   "nbconvert_exporter": "python",
   "pygments_lexer": "ipython3",
   "version": "3.10.10"
  }
 },
 "nbformat": 4,
 "nbformat_minor": 5
}
