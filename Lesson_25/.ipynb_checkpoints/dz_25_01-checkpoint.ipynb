{
 "cells": [
  {
   "cell_type": "markdown",
   "id": "edee09e0",
   "metadata": {},
   "source": [
    "## Задача"
   ]
  },
  {
   "attachments": {
    "26_01.png": {
     "image/png": "[encoded data removed]"
    }
   },
   "cell_type": "markdown",
   "id": "c958682e",
   "metadata": {},
   "source": [
    "![26_01.png](attachment:26_01.png)"
   ]
  },
  {
   "cell_type": "markdown",
   "id": "ca3279ad",
   "metadata": {},
   "source": [
    "Будуємо таблицю закону розподілу. За допомогою формули Бернуллі знаходимо значення ймовірності"
   ]
  },
  {
   "cell_type": "code",
   "execution_count": 2,
   "id": "7f355bed",
   "metadata": {},
   "outputs": [],
   "source": [
    "from math import factorial, pow, sqrt"
   ]
  },
  {
   "cell_type": "code",
   "execution_count": 3,
   "id": "dd4aca4e",
   "metadata": {},
   "outputs": [],
   "source": [
    "# формула Бернулі\n",
    "def bernuly_fn(n, k, p):\n",
    "    Cnk = factorial(n) / (factorial(k) * factorial(n - k))\n",
    "    q = 1 - p\n",
    "    Pk = Cnk * pow(p, k) * pow(q, n - k)\n",
    "    return round(Pk, 3)\n"
   ]
  },
  {
   "cell_type": "code",
   "execution_count": 4,
   "id": "aacb9476",
   "metadata": {},
   "outputs": [
    {
     "data": {
      "text/plain": [
       "0.064"
      ]
     },
     "execution_count": 4,
     "metadata": {},
     "output_type": "execute_result"
    }
   ],
   "source": [
    "P0 = bernuly_fn(3, 0, 0.6)\n",
    "P0"
   ]
  },
  {
   "cell_type": "code",
   "execution_count": 5,
   "id": "04957c6c",
   "metadata": {},
   "outputs": [
    {
     "data": {
      "text/plain": [
       "0.288"
      ]
     },
     "execution_count": 5,
     "metadata": {},
     "output_type": "execute_result"
    }
   ],
   "source": [
    "P1 = bernuly_fn(3, 1, 0.6)\n",
    "P1"
   ]
  },
  {
   "cell_type": "code",
   "execution_count": 6,
   "id": "70c9ec52",
   "metadata": {},
   "outputs": [
    {
     "data": {
      "text/plain": [
       "0.432"
      ]
     },
     "execution_count": 6,
     "metadata": {},
     "output_type": "execute_result"
    }
   ],
   "source": [
    "P2 = bernuly_fn(3, 2, 0.6)\n",
    "P2"
   ]
  },
  {
   "cell_type": "code",
   "execution_count": 7,
   "id": "b56f4a23",
   "metadata": {},
   "outputs": [
    {
     "data": {
      "text/plain": [
       "0.216"
      ]
     },
     "execution_count": 7,
     "metadata": {},
     "output_type": "execute_result"
    }
   ],
   "source": [
    "P3 = bernuly_fn(3, 3, 0.6)\n",
    "P3"
   ]
  },
  {
   "cell_type": "markdown",
   "id": "a5e07330",
   "metadata": {},
   "source": [
    "### Таблиція розподілення величин"
   ]
  },
  {
   "cell_type": "markdown",
   "id": "c23a9c3c",
   "metadata": {},
   "source": [
    "|y\\x | 0     | 1     | 2     |  3   | Pyi  |\n",
    "|:---|:---   |:---   |:---   |:---  | :--- |\n",
    "|0   | 0     | 0     | 0     |0.064 |0.064 |\n",
    "|1   | 0     | 0     | 0.288 | 0    |0.288 |\n",
    "|2   | 0     | 0.432 | 0     | 0    |0.432 |\n",
    "|3   | 0.216 | 0     | 0     | 0    |0.216 |\n",
    "|Pxj | 0.216 | 0.432 | 0.288 | 0.064| 1    |"
   ]
  },
  {
   "cell_type": "markdown",
   "id": "ebad8fda",
   "metadata": {},
   "source": [
    "функція для розрахунків математичного сподівання, дисперсії та квадратичного відхилення"
   ]
  },
  {
   "cell_type": "code",
   "execution_count": 8,
   "id": "b3fe0600",
   "metadata": {},
   "outputs": [],
   "source": [
    "def my_faunc(x, P):\n",
    "    Mx = 0   # математичне сподівання\n",
    "    Mx2 = 0\n",
    "    for i in range(len(x)):\n",
    "        Mx += x[i]*P[i]\n",
    "        Mx2 += pow(x[i], 2)*P[i]\n",
    "    Dx = Mx2 - pow(Mx, 2)# Дисперсія\n",
    "    sigma = sqrt(Dx) # квадратичне відхилення\n",
    "    return round(Mx, 3), round(Dx, 3), round(sigma, 3)"
   ]
  },
  {
   "cell_type": "code",
   "execution_count": 9,
   "id": "b9a927ca",
   "metadata": {},
   "outputs": [],
   "source": [
    "x = [0, 1, 2, 3]\n",
    "Px = [0.216, 0.432, 0.288, 0.064]\n",
    "y = [0, 1, 2, 3]\n",
    "Py = [0.064, 0.288, 0.432, 0.216]"
   ]
  },
  {
   "cell_type": "markdown",
   "id": "798ef05e",
   "metadata": {},
   "source": [
    "|X   | 0     | 1     | 2     |  3   |\n",
    "|:---|:---   |:---   |:---   |:---  |\n",
    "|P   | 0.216 | 0.432 | 0.288 |0.064 |\n",
    " "
   ]
  },
  {
   "cell_type": "markdown",
   "id": "fa5a7633",
   "metadata": {},
   "source": [
    "|Y   | 0     | 1     | 2     |  3   |\n",
    "|:---|:---   |:---   |:---   |:---  |\n",
    "|P   | 0.064 | 0.288 | 0.432 |0.216 |"
   ]
  },
  {
   "cell_type": "code",
   "execution_count": 10,
   "id": "97f424e1",
   "metadata": {},
   "outputs": [
    {
     "name": "stdout",
     "output_type": "stream",
     "text": [
      "Mx = 1.2\n",
      "Dx = 0.72\n",
      "Sx = 0.849\n"
     ]
    }
   ],
   "source": [
    "Mx, Dx, Sx = my_faunc(x, Px)\n",
    "print('Mx =', Mx)\n",
    "print('Dx =', Dx)\n",
    "print('Sx =', Sx)"
   ]
  },
  {
   "cell_type": "code",
   "execution_count": 11,
   "id": "4dfe3faa",
   "metadata": {},
   "outputs": [
    {
     "name": "stdout",
     "output_type": "stream",
     "text": [
      "My = 1.8\n",
      "Dy = 0.72\n",
      "Sy = 0.849\n"
     ]
    }
   ],
   "source": [
    "My, Dy, Sy = my_faunc(y, Py)\n",
    "print('My =', My)\n",
    "print('Dy =', Dy)\n",
    "print('Sy =', Sy)"
   ]
  },
  {
   "cell_type": "markdown",
   "id": "7a50d95c",
   "metadata": {},
   "source": [
    "### Розрахунок Mxy"
   ]
  },
  {
   "cell_type": "code",
   "execution_count": 12,
   "id": "f21276b3",
   "metadata": {},
   "outputs": [
    {
     "data": {
      "text/plain": [
       "1.44"
      ]
     },
     "execution_count": 12,
     "metadata": {},
     "output_type": "execute_result"
    }
   ],
   "source": [
    "Mxy = 1*2* 0.288 + 2*1*0.432\n",
    "Mxy"
   ]
  },
  {
   "cell_type": "markdown",
   "id": "8b3b79b2",
   "metadata": {},
   "source": [
    "### Коваріація"
   ]
  },
  {
   "attachments": {
    "Screenshot_5.png": {
     "image/png": "[encoded data removed]"
    }
   },
   "cell_type": "markdown",
   "id": "9167f18b",
   "metadata": {},
   "source": [
    "![Screenshot_5.png](attachment:Screenshot_5.png)"
   ]
  },
  {
   "cell_type": "code",
   "execution_count": 13,
   "id": "a60a5ab6",
   "metadata": {},
   "outputs": [
    {
     "data": {
      "text/plain": [
       "-0.72"
      ]
     },
     "execution_count": 13,
     "metadata": {},
     "output_type": "execute_result"
    }
   ],
   "source": [
    "cov = round(Mxy - Mx*My, 3)\n",
    "cov"
   ]
  },
  {
   "cell_type": "markdown",
   "id": "15c3e33e",
   "metadata": {},
   "source": [
    "### Коіфіцієнт кореляції"
   ]
  },
  {
   "cell_type": "code",
   "execution_count": 14,
   "id": "bb24fe08",
   "metadata": {},
   "outputs": [
    {
     "name": "stdout",
     "output_type": "stream",
     "text": [
      "кофіцієнт кореляції:  -0.999\n"
     ]
    }
   ],
   "source": [
    "rxy = round(cov / (Sx * Sy), 3)\n",
    "print('кофіцієнт кореляції: ',rxy)"
   ]
  },
  {
   "cell_type": "code",
   "execution_count": null,
   "id": "cdc0a777",
   "metadata": {},
   "outputs": [],
   "source": []
  },
  {
   "cell_type": "code",
   "execution_count": null,
   "id": "9c7de305",
   "metadata": {},
   "outputs": [],
   "source": []
  }
 ],
 "metadata": {
  "kernelspec": {
   "display_name": "Python 3 (ipykernel)",
   "language": "python",
   "name": "python3"
  },
  "language_info": {
   "codemirror_mode": {
    "name": "ipython",
    "version": 3
   },
   "file_extension": ".py",
   "mimetype": "text/x-python",
   "name": "python",
   "nbconvert_exporter": "python",
   "pygments_lexer": "ipython3",
   "version": "3.10.10"
  }
 },
 "nbformat": 4,
 "nbformat_minor": 5
}
